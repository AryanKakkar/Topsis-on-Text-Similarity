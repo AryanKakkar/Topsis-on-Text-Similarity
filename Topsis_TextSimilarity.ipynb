{
  "nbformat": 4,
  "nbformat_minor": 0,
  "metadata": {
    "colab": {
      "provenance": []
    },
    "kernelspec": {
      "name": "python3",
      "display_name": "Python 3"
    },
    "language_info": {
      "name": "python"
    }
  },
  "cells": [
    {
      "cell_type": "code",
      "execution_count": 3,
      "metadata": {
        "colab": {
          "base_uri": "https://localhost:8080/"
        },
        "id": "JLvUPE50bEW0",
        "outputId": "5f322471-fa11-40e3-a45b-2bc62656c7a1"
      },
      "outputs": [
        {
          "output_type": "stream",
          "name": "stdout",
          "text": [
            "     Model  TOPSIS Score  Rank\n",
            "0    SBERT      0.956462     1\n",
            "1     BERT      0.635335     2\n",
            "2  RoBERTa      0.611742     3\n",
            "3  GPT-3.5      0.043538     4\n"
          ]
        }
      ],
      "source": [
        "import numpy as np\n",
        "import pandas as pd\n",
        "\n",
        "def topsis(decision_matrix, weights, benefit_criteria):\n",
        "    decision_matrix = np.array(decision_matrix, dtype=float)\n",
        "    weights = np.array(weights, dtype=float)\n",
        "    benefit_criteria = np.array(benefit_criteria, dtype=int)  # Convert to numpy array\n",
        "\n",
        "    # Step 1: Normalize the Decision Matrix\n",
        "    norm_matrix = decision_matrix / np.sqrt((decision_matrix**2).sum(axis=0))\n",
        "\n",
        "    # Step 2: Weighted Normalized Decision Matrix\n",
        "    weighted_matrix = norm_matrix * weights\n",
        "\n",
        "    # Step 3: Identify Ideal (Best) and Negative-Ideal (Worst) Solutions\n",
        "    ideal_best = np.max(weighted_matrix, axis=0) * benefit_criteria + np.min(weighted_matrix, axis=0) * (1 - benefit_criteria)\n",
        "    ideal_worst = np.min(weighted_matrix, axis=0) * benefit_criteria + np.max(weighted_matrix, axis=0) * (1 - benefit_criteria)\n",
        "\n",
        "    # Step 4: Compute the Euclidean Distance from Ideal and Negative-Ideal Solutions\n",
        "    dist_best = np.sqrt(((weighted_matrix - ideal_best) ** 2).sum(axis=1))\n",
        "    dist_worst = np.sqrt(((weighted_matrix - ideal_worst) ** 2).sum(axis=1))\n",
        "\n",
        "    # Step 5: Compute the Relative Closeness Score\n",
        "    score = dist_worst / (dist_best + dist_worst)\n",
        "\n",
        "    return score\n",
        "\n",
        "# Define the decision matrix\n",
        "decision_matrix = [\n",
        "    [0.85, 50, 400, 5, 0.78],  # BERT\n",
        "    [0.88, 40, 500, 6, 0.82],  # RoBERTa\n",
        "    [0.82, 200, 100, 1, 0.76], # SBERT\n",
        "    [0.90, 5, 3500, 50, 0.85]  # GPT-3.5\n",
        "]\n",
        "\n",
        "weights = [0.3, 0.2, 0.2, 0.2, 0.1]  # Adjust based on preference\n",
        "\n",
        "benefit_criteria = np.array([1, 1, 0, 0, 1])  # Convert to numpy array\n",
        "\n",
        "scores = topsis(decision_matrix, weights, benefit_criteria)\n",
        "\n",
        "model_names = [\"BERT\", \"RoBERTa\", \"SBERT\", \"GPT-3.5\"]\n",
        "ranked_models = sorted(zip(model_names, scores), key=lambda x: x[1], reverse=True)\n",
        "\n",
        "result_df = pd.DataFrame(ranked_models, columns=[\"Model\", \"TOPSIS Score\"])\n",
        "result_df[\"Rank\"] = result_df[\"TOPSIS Score\"].rank(ascending=False, method=\"dense\").astype(int)\n",
        "print(result_df)\n"
      ]
    }
  ]
}
